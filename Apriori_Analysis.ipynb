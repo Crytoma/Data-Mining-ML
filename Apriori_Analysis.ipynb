{
 "cells": [
  {
   "cell_type": "code",
   "execution_count": 1,
   "metadata": {},
   "outputs": [],
   "source": [
    "# Required modules preimport.\n",
    "import itertools, pandas as pd\n",
    "\n",
    "# MLXtend\n",
    "from mlxtend.preprocessing import TransactionEncoder\n",
    "from mlxtend.frequent_patterns import apriori, association_rules"
   ]
  },
  {
   "cell_type": "code",
   "execution_count": 2,
   "metadata": {},
   "outputs": [],
   "source": [
    "# Previous document dataset\n",
    "dataset = [['Milk', 'Onion', 'Nutmeg', 'Kidney Beans', 'Eggs', 'Yogurt'],\n",
    "           ['Dill', 'Onion', 'Nutmeg', 'Kidney Beans', 'Eggs', 'Yogurt'],\n",
    "           ['Milk', 'Apple', 'Kidney Beans', 'Eggs'],\n",
    "           ['Milk', 'Unicorn', 'Corn', 'Kidney Beans', 'Yogurt'],\n",
    "           ['Corn', 'Onion', 'Onion', 'Kidney Beans', 'Ice cream', 'Eggs']]"
   ]
  },
  {
   "cell_type": "code",
   "execution_count": 3,
   "metadata": {},
   "outputs": [],
   "source": [
    "# Encoding and preprocessing\n",
    "te = TransactionEncoder()\n",
    "te_ary = te.fit_transform(dataset)\n",
    "df = pd.DataFrame(te_ary, columns=te.columns_)"
   ]
  },
  {
   "cell_type": "code",
   "execution_count": 4,
   "metadata": {},
   "outputs": [],
   "source": [
    "l2 = [[1,2], [1,4], [1,5], [2,3], [2,4], [2,5]]\n",
    "\n",
    "# Join l2 * l2, 1, 2 -> 4, 5 etc\n",
    "c3 = [[1,2,4], [1,2,5], [1,4,5], [2,3,4], [2,3,5], [2,4,5]]"
   ]
  },
  {
   "cell_type": "code",
   "execution_count": 5,
   "metadata": {},
   "outputs": [
    {
     "data": {
      "text/html": [
       "<div>\n",
       "<style scoped>\n",
       "    .dataframe tbody tr th:only-of-type {\n",
       "        vertical-align: middle;\n",
       "    }\n",
       "\n",
       "    .dataframe tbody tr th {\n",
       "        vertical-align: top;\n",
       "    }\n",
       "\n",
       "    .dataframe thead th {\n",
       "        text-align: right;\n",
       "    }\n",
       "</style>\n",
       "<table border=\"1\" class=\"dataframe\">\n",
       "  <thead>\n",
       "    <tr style=\"text-align: right;\">\n",
       "      <th></th>\n",
       "      <th>support</th>\n",
       "      <th>itemsets</th>\n",
       "    </tr>\n",
       "  </thead>\n",
       "  <tbody>\n",
       "    <tr>\n",
       "      <th>0</th>\n",
       "      <td>0.8</td>\n",
       "      <td>(Eggs)</td>\n",
       "    </tr>\n",
       "    <tr>\n",
       "      <th>1</th>\n",
       "      <td>1.0</td>\n",
       "      <td>(Kidney Beans)</td>\n",
       "    </tr>\n",
       "    <tr>\n",
       "      <th>2</th>\n",
       "      <td>0.6</td>\n",
       "      <td>(Milk)</td>\n",
       "    </tr>\n",
       "    <tr>\n",
       "      <th>3</th>\n",
       "      <td>0.6</td>\n",
       "      <td>(Onion)</td>\n",
       "    </tr>\n",
       "    <tr>\n",
       "      <th>4</th>\n",
       "      <td>0.6</td>\n",
       "      <td>(Yogurt)</td>\n",
       "    </tr>\n",
       "    <tr>\n",
       "      <th>5</th>\n",
       "      <td>0.8</td>\n",
       "      <td>(Kidney Beans, Eggs)</td>\n",
       "    </tr>\n",
       "    <tr>\n",
       "      <th>6</th>\n",
       "      <td>0.6</td>\n",
       "      <td>(Eggs, Onion)</td>\n",
       "    </tr>\n",
       "    <tr>\n",
       "      <th>7</th>\n",
       "      <td>0.6</td>\n",
       "      <td>(Kidney Beans, Milk)</td>\n",
       "    </tr>\n",
       "    <tr>\n",
       "      <th>8</th>\n",
       "      <td>0.6</td>\n",
       "      <td>(Kidney Beans, Onion)</td>\n",
       "    </tr>\n",
       "    <tr>\n",
       "      <th>9</th>\n",
       "      <td>0.6</td>\n",
       "      <td>(Kidney Beans, Yogurt)</td>\n",
       "    </tr>\n",
       "    <tr>\n",
       "      <th>10</th>\n",
       "      <td>0.6</td>\n",
       "      <td>(Kidney Beans, Eggs, Onion)</td>\n",
       "    </tr>\n",
       "  </tbody>\n",
       "</table>\n",
       "</div>"
      ],
      "text/plain": [
       "    support                     itemsets\n",
       "0       0.8                       (Eggs)\n",
       "1       1.0               (Kidney Beans)\n",
       "2       0.6                       (Milk)\n",
       "3       0.6                      (Onion)\n",
       "4       0.6                     (Yogurt)\n",
       "5       0.8         (Kidney Beans, Eggs)\n",
       "6       0.6                (Eggs, Onion)\n",
       "7       0.6         (Kidney Beans, Milk)\n",
       "8       0.6        (Kidney Beans, Onion)\n",
       "9       0.6       (Kidney Beans, Yogurt)\n",
       "10      0.6  (Kidney Beans, Eggs, Onion)"
      ]
     },
     "metadata": {},
     "output_type": "display_data"
    }
   ],
   "source": [
    "# Proof (Not in freq itemset with threshold for .5)\n",
    "frequent_itemsets = apriori(df, min_support=0.5, use_colnames=True)\n",
    "display(frequent_itemsets) # Itemset not in output."
   ]
  },
  {
   "cell_type": "markdown",
   "metadata": {},
   "source": [
    "Kulczynski= 1/2 (P(A|B) + P(B|A))\n",
    "\n",
    "kulc = 0.5*((supAUB/supA)+(supAUB/supB))"
   ]
  },
  {
   "cell_type": "code",
   "execution_count": 6,
   "metadata": {},
   "outputs": [],
   "source": [
    "import itertools\n",
    "\n",
    "frequent_itemsets = apriori(df, min_support=0.6, use_colnames=True)\n",
    "strong_rules = association_rules(frequent_itemsets, metric='confidence', min_threshold=0.6)\n",
    "# Respective antecedents and consequents.\n",
    "antecedents = frozenset(strong_rules[\"antecedents\"])\n",
    "consequents = frozenset(strong_rules[\"consequents\"])"
   ]
  },
  {
   "cell_type": "code",
   "execution_count": 7,
   "metadata": {},
   "outputs": [
    {
     "name": "stdout",
     "output_type": "stream",
     "text": [
      "Kulczynski for frozenset({'Yogurt'}) --> frozenset({'Kidney Beans'}): 0.8\n",
      "Kulczynski for frozenset({'Eggs', 'Kidney Beans'}) --> frozenset({'Onion'}): 0.88\n",
      "Kulczynski for frozenset({'Kidney Beans', 'Onion'}) --> frozenset({'Eggs'}): 0.88\n",
      "Kulczynski for frozenset({'Eggs', 'Onion'}) --> frozenset({'Kidney Beans'}): 0.8\n",
      "Kulczynski for frozenset({'Eggs'}) --> frozenset({'Kidney Beans', 'Onion'}): 0.88\n",
      "Kulczynski for frozenset({'Eggs'}) --> frozenset({'Onion'}): 0.88\n",
      "Kulczynski for frozenset({'Eggs'}) --> frozenset({'Kidney Beans'}): 0.9\n",
      "Kulczynski for frozenset({'Onion'}) --> frozenset({'Eggs', 'Kidney Beans'}): 0.88\n",
      "Kulczynski for frozenset({'Onion'}) --> frozenset({'Eggs'}): 0.88\n",
      "Kulczynski for frozenset({'Onion'}) --> frozenset({'Kidney Beans'}): 0.8\n",
      "Kulczynski for frozenset({'Milk'}) --> frozenset({'Kidney Beans'}): 0.8\n",
      "Kulczynski for frozenset({'Kidney Beans'}) --> frozenset({'Yogurt'}): 0.8\n",
      "Kulczynski for frozenset({'Kidney Beans'}) --> frozenset({'Eggs', 'Onion'}): 0.8\n",
      "Kulczynski for frozenset({'Kidney Beans'}) --> frozenset({'Eggs'}): 0.9\n",
      "Kulczynski for frozenset({'Kidney Beans'}) --> frozenset({'Onion'}): 0.8\n",
      "Kulczynski for frozenset({'Kidney Beans'}) --> frozenset({'Milk'}): 0.8\n"
     ]
    }
   ],
   "source": [
    "def kulczynski_measure(freq_itemset, antecedents, consequents):\n",
    "    # Only  >= .5 are \"interesting\"\n",
    "    rules = association_rules(freq_itemset, metric='confidence', min_threshold=0.6)\n",
    "    # Aggregate support values from the dataframe.\n",
    "    support = {}\n",
    "    for _, row in freq_itemset.iterrows():\n",
    "        support[row['itemsets']] = row['support']\n",
    "    # Iterate first over each antecedent in frozenset.\n",
    "    for ant in antecedents:\n",
    "        for con in consequents: # Iterate over each consequent in order to find correct rule.\n",
    "             # The row that contains the correctly ordered A B rule is assigned as rowAC.\n",
    "            rowAC = rules.loc[(rules['antecedents'] == ant) & (rules['consequents'] == con)]\n",
    "\n",
    "            rowCA = rules.loc[(rules['antecedents'] == con) & (rules['consequents'] == ant)]\n",
    "\n",
    "            if (not rowAC.empty) & (not rowCA.empty):\n",
    "                supAC = rowAC['confidence'].values[0]\n",
    "                supCA = rowCA['confidence'].values[0]\n",
    "                # Formula for measuring relationship between itemsets on a 0 to 1 bound.\n",
    "                kulczynski = 0.5*(supAC + supCA)\n",
    "                print(f'Kulczynski for {ant} --> {con}: {round(kulczynski, 2)}')\n",
    "                \n",
    "kulczynski_measure(frequent_itemsets, antecedents, consequents)"
   ]
  },
  {
   "cell_type": "markdown",
   "metadata": {},
   "source": [
    "IR = abs(supA-supB)/(supA+supB-supAUB)"
   ]
  },
  {
   "cell_type": "code",
   "execution_count": 8,
   "metadata": {},
   "outputs": [],
   "source": [
    "frequent_itemsets = apriori(df, min_support=0.6, use_colnames=True)\n",
    "\n",
    "strong_rules = association_rules(frequent_itemsets, metric='confidence', min_threshold=0.6)\n",
    "\n",
    "# Respective antecedents and consequents.\n",
    "antecedents = frozenset(strong_rules[\"antecedents\"])\n",
    "consequents = frozenset(strong_rules[\"consequents\"])"
   ]
  },
  {
   "cell_type": "code",
   "execution_count": 9,
   "metadata": {},
   "outputs": [
    {
     "name": "stdout",
     "output_type": "stream",
     "text": [
      "IR for frozenset({'Yogurt'}) --> frozenset({'Kidney Beans'}): 0.67\n",
      "IR for frozenset({'Eggs', 'Kidney Beans'}) --> frozenset({'Onion'}): 0.31\n",
      "IR for frozenset({'Kidney Beans', 'Onion'}) --> frozenset({'Eggs'}): 0.5\n",
      "IR for frozenset({'Eggs', 'Onion'}) --> frozenset({'Kidney Beans'}): 0.67\n",
      "IR for frozenset({'Eggs'}) --> frozenset({'Kidney Beans', 'Onion'}): 0.31\n",
      "IR for frozenset({'Eggs'}) --> frozenset({'Onion'}): 0.31\n",
      "IR for frozenset({'Eggs'}) --> frozenset({'Kidney Beans'}): 0.25\n",
      "IR for frozenset({'Onion'}) --> frozenset({'Eggs', 'Kidney Beans'}): 0.5\n",
      "IR for frozenset({'Onion'}) --> frozenset({'Eggs'}): 0.5\n",
      "IR for frozenset({'Onion'}) --> frozenset({'Kidney Beans'}): 0.67\n",
      "IR for frozenset({'Milk'}) --> frozenset({'Kidney Beans'}): 0.67\n",
      "IR for frozenset({'Kidney Beans'}) --> frozenset({'Yogurt'}): 0.4\n",
      "IR for frozenset({'Kidney Beans'}) --> frozenset({'Eggs', 'Onion'}): 0.4\n",
      "IR for frozenset({'Kidney Beans'}) --> frozenset({'Eggs'}): 0.2\n",
      "IR for frozenset({'Kidney Beans'}) --> frozenset({'Onion'}): 0.4\n",
      "IR for frozenset({'Kidney Beans'}) --> frozenset({'Milk'}): 0.4\n"
     ]
    }
   ],
   "source": [
    "# IR = abs(supA-supB)/(supA+supB-supAUB)\n",
    "def imbalance_ratio(freq_itemset, antecedents, consequents): \n",
    "    # Recalculate the confidence values from the dataset freq\n",
    "    rules = association_rules(freq_itemset, metric='confidence', min_threshold=0.6)\n",
    "    # Aggregate support values from the dataframe.\n",
    "    support = {}\n",
    "    for _, row in freq_itemset.iterrows():\n",
    "        support[row['itemsets']] = row['support']\n",
    "    # Iterate first over each antecedent in frozenset.\n",
    "    for ant in antecedents:\n",
    "        supA = support[ant] # support value is taken from freq support.\n",
    "        for con in consequents: # Iterate over each consequent in order to find correct rule.\n",
    "            # The row that contains the correctly ordered A B rule is assigned as rowAC.\n",
    "            rowAC = rules.loc[(rules['antecedents'] == ant) & (rules['consequents'] == con)]\n",
    "            # Support for B / consequent is taken from freq_itemset.\n",
    "            supB = support[con]\n",
    "            # Now row for the reverse rule is taken.\n",
    "            rowCA = rules.loc[(rules['antecedents'] == con) & (rules['consequents'] == ant)]\n",
    "            # Only continue if the dataframe is not empty, seems to spit out dataframes regardless without this.\n",
    "            if (not rowAC.empty) & (not rowCA.empty):\n",
    "                # Confidence for A union B is the confidence of rule AB\n",
    "                supAB = rowAC['confidence'].values[0]\n",
    "                # Imbalance ratio formula.\n",
    "                ir = abs(supA-supB) / (supA+supB-supAB)\n",
    "                # Round to 2.dp and show rule order.\n",
    "                print(f'IR for {ant} --> {con}: {round(ir, 2)}')\n",
    "# Call function with 3 parameters.              \n",
    "imbalance_ratio(frequent_itemsets, antecedents, consequents)"
   ]
  }
 ],
 "metadata": {
  "interpreter": {
   "hash": "916dbcbb3f70747c44a77c7bcd40155683ae19c65e1c03b4aa3499c5328201f1"
  },
  "kernelspec": {
   "display_name": "Python 3.10.0 64-bit",
   "language": "python",
   "name": "python3"
  },
  "language_info": {
   "codemirror_mode": {
    "name": "ipython",
    "version": 3
   },
   "file_extension": ".py",
   "mimetype": "text/x-python",
   "name": "python",
   "nbconvert_exporter": "python",
   "pygments_lexer": "ipython3",
   "version": "3.9.5"
  },
  "orig_nbformat": 4
 },
 "nbformat": 4,
 "nbformat_minor": 2
}
